{
 "cells": [
  {
   "cell_type": "code",
   "execution_count": null,
   "metadata": {},
   "outputs": [],
   "source": [
    "import random\n",
    "\n",
    "class MockDataset():\n",
    "    def scoreddocs_iter(self):\n",
    "        list = [\n",
    "            {'query_id': '1', 'doc_id': '1', 'score': 0.1},\n",
    "            {'query_id': '1', 'doc_id': '2', 'score': 0.2},\n",
    "            {'query_id': '1', 'doc_id': '3', 'score': 0.3},\n",
    "            {'query_id': '2', 'doc_id': '4', 'score': 0.4},\n",
    "            {'query_id': '1', 'doc_id': '5', 'score': 0.5},\n",
    "            {'query_id': '2', 'doc_id': '6', 'score': 0.6},\n",
    "            {'query_id': '1', 'doc_id': '7', 'score': 0.7},\n",
    "            {'query_id': '2', 'doc_id': '8', 'score': 0.8},\n",
    "            {'query_id': '1', 'doc_id': '9', 'score': 0.01}\n",
    "        ]\n",
    "        \n",
    "        # randomize order\n",
    "        random.shuffle(list)\n",
    "        return list"
   ]
  },
  {
   "cell_type": "code",
   "execution_count": 66,
   "metadata": {},
   "outputs": [],
   "source": [
    "import heapq\n",
    "from typing import List, Tuple, Set\n",
    "\n",
    "def get_docs(dataset, query_id: str, num_docs: int = 10) -> Tuple[List[str], List[str]]:\n",
    "    \"\"\"Finds the most and least relevant documents for a given query.\n",
    "\n",
    "    Args:\n",
    "        dataset: msmarco dataset\n",
    "        query_id (str): query to evaluate\n",
    "        num_docs (int): number of most and least relevant documents to return (default 10)\n",
    "\n",
    "    Returns:\n",
    "        Tuple[List[str], List[str]]: most relevant documents, least relevant documents\n",
    "    \"\"\"\n",
    "    most_relevant_heap = []\n",
    "    least_relevant_heap = []\n",
    "    \n",
    "    for qrel in dataset.scoreddocs_iter():\n",
    "        if qrel['query_id'] == query_id:\n",
    "            score = qrel['score']\n",
    "            doc_id = qrel['doc_id']\n",
    "            \n",
    "            if len(most_relevant_heap) < num_docs:\n",
    "                heapq.heappush(most_relevant_heap, (score, doc_id))\n",
    "            else:\n",
    "                if score > most_relevant_heap[0][0]:\n",
    "                    heapq.heappop(most_relevant_heap)\n",
    "                    heapq.heappush(most_relevant_heap, (score, doc_id))\n",
    "            \n",
    "            if len(least_relevant_heap) < num_docs:\n",
    "                heapq.heappush(least_relevant_heap, (-score, doc_id))\n",
    "            else:\n",
    "                if -score > least_relevant_heap[0][0]:\n",
    "                    heapq.heappop(least_relevant_heap)\n",
    "                    heapq.heappush(least_relevant_heap, (-score, doc_id))\n",
    "    \n",
    "    # Extract the document IDs from the heap\n",
    "    most_relevant_docs = [doc_id for (score, doc_id) in most_relevant_heap]\n",
    "    least_relevant_docs = [doc_id for (score, doc_id) in least_relevant_heap]\n",
    "    \n",
    "    return most_relevant_docs, least_relevant_docs"
   ]
  },
  {
   "cell_type": "code",
   "execution_count": 67,
   "metadata": {},
   "outputs": [
    {
     "data": {
      "text/plain": [
       "(['5', '7'], ['1', '9'], ['6', '8'], ['6', '4'])"
      ]
     },
     "execution_count": 67,
     "metadata": {},
     "output_type": "execute_result"
    }
   ],
   "source": [
    "dataset = MockDataset()\n",
    "\n",
    "a, b = get_docs(dataset, '1', 2)\n",
    "c, d = get_docs(dataset, '2', 2)\n",
    "a, b, c, d"
   ]
  },
  {
   "cell_type": "code",
   "execution_count": 68,
   "metadata": {},
   "outputs": [],
   "source": [
    "def get_docs_split(dataset, queries_list: List[str], num_docs_per_query: int = 10) -> Set[str]:\n",
    "    \"\"\"Returns a set of filtered document IDs for a list of queries.\n",
    "\n",
    "    Args:\n",
    "        dataset: msmarco dataset\n",
    "        queries_list (List[str]): query IDs to evaluate\n",
    "        num_docs_per_query (int): number of most and least relevant documents to return\n",
    "\n",
    "    Returns:\n",
    "        Set[str]: set of document IDs\n",
    "    \"\"\"\n",
    "    doc_ids = set()\n",
    "    for query_id in queries_list:\n",
    "        most_relevant_docs, least_relevant_docs = get_docs(dataset, query_id, num_docs_per_query)\n",
    "        doc_ids.update(most_relevant_docs)\n",
    "        doc_ids.update(least_relevant_docs)\n",
    "    \n",
    "    return doc_ids"
   ]
  },
  {
   "cell_type": "code",
   "execution_count": 69,
   "metadata": {},
   "outputs": [
    {
     "data": {
      "text/plain": [
       "{'1', '4', '5', '6', '7', '8', '9'}"
      ]
     },
     "execution_count": 69,
     "metadata": {},
     "output_type": "execute_result"
    }
   ],
   "source": [
    "get_docs_split(dataset, ['1', '2'], 2)"
   ]
  }
 ],
 "metadata": {
  "kernelspec": {
   "display_name": "Python 3",
   "language": "python",
   "name": "python3"
  },
  "language_info": {
   "codemirror_mode": {
    "name": "ipython",
    "version": 3
   },
   "file_extension": ".py",
   "mimetype": "text/x-python",
   "name": "python",
   "nbconvert_exporter": "python",
   "pygments_lexer": "ipython3",
   "version": "3.12.1"
  }
 },
 "nbformat": 4,
 "nbformat_minor": 2
}
